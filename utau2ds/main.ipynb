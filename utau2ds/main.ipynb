{
 "cells": [
  {
   "cell_type": "markdown",
   "metadata": {},
   "source": [
    "## UTAU授权声库转制DiffSinger工具（开发中）"
   ]
  },
  {
   "cell_type": "markdown",
   "metadata": {},
   "source": [
    "by XMTech\n",
    "<br />\n",
    "<br />https://openi.pcl.ac.cn/XMTech/DiffSinger_Toolkit\n",
    "<br />Github 待定"
   ]
  },
  {
   "cell_type": "markdown",
   "metadata": {},
   "source": [
    "### 设置待转制声库路径，输出文件路径，缓存路径"
   ]
  },
  {
   "cell_type": "code",
   "execution_count": null,
   "metadata": {},
   "outputs": [],
   "source": [
    "import os\n",
    "\n",
    "src = \"C:/Users/Admin/Documents/OpenUtau/Singers/Norelln_CVVC_Chinese\"\n",
    "out = \"C:/Users/Admin/Desktop/train/Norelln_DiffSinger_U\"\n",
    "tmp = \"C:/Users/Admin/Desktop/utau2ds_cache\""
   ]
  },
  {
   "cell_type": "markdown",
   "metadata": {},
   "source": [
    "### 如果你的声库声库只包含一个音阶（音频文件直接放置在父文件夹）"
   ]
  },
  {
   "cell_type": "markdown",
   "metadata": {},
   "source": [
    "将采样复制到缓存目录内"
   ]
  },
  {
   "cell_type": "code",
   "execution_count": null,
   "metadata": {},
   "outputs": [],
   "source": [
    "import shutil\n",
    "\n",
    "if not os.path.exists(tmp):\n",
    "    os.makedirs(tmp)\n",
    "\n",
    "for foldername, subfolders, filenames in os.walk(src):\n",
    "    for filename in filenames:\n",
    "        if filename.endswith('.wav'):\n",
    "            source_file_path = os.path.join(foldername, filename)\n",
    "            destination_file_path = os.path.join(tmp, filename)\n",
    "            shutil.copy2(source_file_path, destination_file_path)\n"
   ]
  },
  {
   "cell_type": "code",
   "execution_count": null,
   "metadata": {},
   "outputs": [],
   "source": [
    "def remove_leading_trailing_underscores(filename):\n",
    "    base_name, extension = os.path.splitext(filename)\n",
    "    \n",
    "    # 这里填写需要删除的前缀\n",
    "    if base_name.startswith('_'):\n",
    "        base_name = base_name[1:]\n",
    "\n",
    "    # 这里填写需要删除的后缀\n",
    "    if base_name.endswith('_'):\n",
    "        base_name = base_name[:-1]\n",
    "    \n",
    "    new_filename = base_name + extension\n",
    "    return new_filename\n",
    "\n",
    "for filename in os.listdir(tmp):\n",
    "    new_filename = remove_leading_trailing_underscores(filename)\n",
    "    \n",
    "    old_file = os.path.join(tmp, filename)\n",
    "    new_file = os.path.join(tmp, new_filename)\n",
    "    \n",
    "    os.rename(old_file, new_file)\n"
   ]
  },
  {
   "cell_type": "markdown",
   "metadata": {},
   "source": [
    "删除包含非法字符的采样文件"
   ]
  },
  {
   "cell_type": "code",
   "execution_count": null,
   "metadata": {},
   "outputs": [],
   "source": [
    "# 请根据实际情况自行修改非法字符串\n",
    "characters_to_remove = ['R', 'B', '-', '@', '↑', '↓',\"«\"]\n",
    "\n",
    "for filename in os.listdir(tmp):\n",
    "    if any(char in filename for char in characters_to_remove):\n",
    "        file_path = os.path.join(tmp, filename)\n",
    "        os.remove(file_path)\n",
    "        print(f\"已删除文件： {file_path}\")"
   ]
  },
  {
   "cell_type": "markdown",
   "metadata": {},
   "source": [
    "替换文件名中不规范的字符"
   ]
  },
  {
   "cell_type": "code",
   "execution_count": null,
   "metadata": {},
   "outputs": [],
   "source": [
    "replace_dict = {\n",
    "    'i': 'yi',\n",
    "    'u': 'wu',\n",
    "    'lue': 'lve',\n",
    "}\n",
    "\n",
    "def replace_chars(input_list, replace_dict):\n",
    "    return [replace_dict.get(char, char) for char in input_list]\n",
    "\n",
    "for filename in os.listdir(tmp):\n",
    "    filename_split = filename[:-4].split('_')\n",
    "    new_filename_split = replace_chars(filename_split, replace_dict)\n",
    "    if filename_split != new_filename_split:\n",
    "        new_filename = \"\"\n",
    "        for part in new_filename_split:\n",
    "            new_filename += part + \"_\"\n",
    "        new_filename = new_filename.rstrip(\"_\") + \".wav\"\n",
    "        os.rename(os.path.join(tmp, filename), os.path.join(tmp, new_filename))\n",
    "        print(f\"已重命名文件： {filename} -> {new_filename}\")"
   ]
  },
  {
   "cell_type": "markdown",
   "metadata": {},
   "source": [
    "（可选）如果采样文件时长均过短，可以尝试将采样拼接为长文件"
   ]
  },
  {
   "cell_type": "code",
   "execution_count": null,
   "metadata": {},
   "outputs": [],
   "source": [
    "#施工中"
   ]
  },
  {
   "cell_type": "markdown",
   "metadata": {},
   "source": [
    "为采样生成lab文件"
   ]
  },
  {
   "cell_type": "code",
   "execution_count": null,
   "metadata": {},
   "outputs": [],
   "source": [
    "for filename in os.listdir(tmp):\n",
    "    if os.path.isfile(os.path.join(tmp, filename)):\n",
    "        file_base, file_extension = os.path.splitext(filename)\n",
    "        new_filename = file_base + '.lab'\n",
    "        full_file_path = os.path.join(tmp, new_filename)\n",
    "\n",
    "        with open(full_file_path, 'w') as lab_file:\n",
    "            lab_file.write(new_filename.replace('_', ' ')[:-4])"
   ]
  },
  {
   "cell_type": "markdown",
   "metadata": {},
   "source": [
    "从缓存读取lab完成的采样并写入输出目录"
   ]
  },
  {
   "cell_type": "code",
   "execution_count": null,
   "metadata": {},
   "outputs": [],
   "source": [
    "if not os.path.exists(out):\n",
    "    os.makedirs(out)\n",
    "\n",
    "for item in os.listdir(tmp):\n",
    "    source_item = os.path.join(tmp, item)\n",
    "    destination_item = os.path.join(out, item)\n",
    "    shutil.copy2(source_item, destination_item)"
   ]
  },
  {
   "cell_type": "markdown",
   "metadata": {},
   "source": [
    "清空缓存"
   ]
  },
  {
   "cell_type": "code",
   "execution_count": null,
   "metadata": {},
   "outputs": [],
   "source": [
    "shutil.rmtree(tmp)"
   ]
  },
  {
   "cell_type": "markdown",
   "metadata": {},
   "source": [
    "### 如果你的声库包含多个音阶（在文件夹内嵌套多个音阶文件夹）\n",
    "</p>没提交误删了，重新施工中"
   ]
  },
  {
   "cell_type": "code",
   "execution_count": null,
   "metadata": {},
   "outputs": [],
   "source": [
    "for foldername, subfolders, filenames in os.walk(src):\n",
    "    if foldername != src:\n",
    "        if 'oto.ini' in filenames:\n",
    "            print(os.path.basename(foldername))"
   ]
  }
 ],
 "metadata": {
  "kernelspec": {
   "display_name": "Python 3",
   "language": "python",
   "name": "python3"
  },
  "language_info": {
   "codemirror_mode": {
    "name": "ipython",
    "version": 3
   },
   "file_extension": ".py",
   "mimetype": "text/x-python",
   "name": "python",
   "nbconvert_exporter": "python",
   "pygments_lexer": "ipython3",
   "version": "3.11.2"
  }
 },
 "nbformat": 4,
 "nbformat_minor": 2
}
