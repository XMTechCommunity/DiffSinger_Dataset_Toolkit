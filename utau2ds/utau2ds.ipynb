{
 "cells": [
  {
   "cell_type": "markdown",
   "metadata": {},
   "source": [
    "## UTAU授权声库转制DiffSinger工具（开发中）"
   ]
  },
  {
   "cell_type": "markdown",
   "metadata": {},
   "source": [
    "by XMTech\n",
    "<br />\n",
    "<br />https://openi.pcl.ac.cn/XMTech/DiffSinger_Toolkit\n",
    "<br />Github 待定"
   ]
  },
  {
   "cell_type": "markdown",
   "metadata": {},
   "source": [
    "### 设置待转制声库路径，输出文件路径，缓存路径"
   ]
  },
  {
   "cell_type": "code",
   "execution_count": null,
   "metadata": {},
   "outputs": [],
   "source": [
    "src = \"C:/Users/Admin/Documents/OpenUtau/Singers/Norelln_UTAU_CVVC_Beta\"\n",
    "out = \"C:/Users/Admin/Desktop/Norelln_DS_lab\"\n",
    "tmp = \"C:/Users/Admin/Desktop/utau2ds_cache\""
   ]
  }
 ],
 "metadata": {
  "language_info": {
   "name": "python"
  }
 },
 "nbformat": 4,
 "nbformat_minor": 2
}
